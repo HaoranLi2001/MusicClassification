{
  "cells": [
    {
      "cell_type": "code",
      "execution_count": null,
      "metadata": {
        "id": "LU8CVtjmmeSV"
      },
      "outputs": [],
      "source": [
        "# import libraries\n",
        "import pandas as pd\n",
        "import numpy as np\n",
        "import matplotlib.pyplot as plt\n",
        "import seaborn as sns\n",
        "%matplotlib inline\n",
        "from sklearn.model_selection import train_test_split, GridSearchCV, cross_val_score\n",
        "from sklearn.pipeline import Pipeline\n",
        "from sklearn.preprocessing import StandardScaler\n",
        "from sklearn.metrics import accuracy_score"
      ]
    },
    {
      "cell_type": "code",
      "execution_count": null,
      "metadata": {
        "colab": {
          "base_uri": "https://localhost:8080/"
        },
        "id": "CW2NdlEbmZmx",
        "outputId": "90a71b35-c906-4dce-d211-ddd3bd43de86"
      },
      "outputs": [],
      "source": [
        "# Download data\n",
        "!wget -O training_data.csv http://handsonml.control.lth.se/data/training_data.csv\n",
        "!wget -O songs_to_classify.csv http://handsonml.control.lth.se/data/songs_to_classify.csv\n",
        "training_set=pd.read_csv('training_data.csv')\n",
        "test_set=pd.read_csv('songs_to_classify.csv')"
      ]
    },
    {
      "cell_type": "code",
      "execution_count": null,
      "metadata": {
        "id": "a4zA9xCToKKp"
      },
      "outputs": [],
      "source": [
        "# set the training and test set\n",
        "training_set=pd.read_csv('training_data.csv')\n",
        "test_set=pd.read_csv('songs_to_classify.csv')"
      ]
    },
    {
      "cell_type": "code",
      "execution_count": null,
      "metadata": {
        "colab": {
          "base_uri": "https://localhost:8080/"
        },
        "id": "DWMpMJ4HFUwh",
        "outputId": "f677f025-671f-4576-bf90-d15ca0185451"
      },
      "outputs": [],
      "source": [
        "test_set.info()"
      ]
    },
    {
      "cell_type": "code",
      "execution_count": null,
      "metadata": {
        "colab": {
          "base_uri": "https://localhost:8080/",
          "height": 570
        },
        "id": "bgMTduEsRgJZ",
        "outputId": "e65faeeb-0dae-4a4f-dc27-ae03d51c81bb"
      },
      "outputs": [],
      "source": [
        "training_set.info()\n",
        "training_set.head()"
      ]
    },
    {
      "cell_type": "code",
      "execution_count": null,
      "metadata": {
        "colab": {
          "base_uri": "https://localhost:8080/",
          "height": 1000
        },
        "id": "jQ4ZT_Eg705w",
        "outputId": "41a97f79-d6f6-4f3f-dbaf-0f36442e9c26"
      },
      "outputs": [],
      "source": [
        "# visualization\n",
        "f=['acousticness','danceability','duration','energy','instrumentalness','key',\n",
        "   'liveness','loudness','mode','speechiness','tempo','time_signature','valence']\n",
        "for f_ in f:\n",
        "    sns.catplot(x='label', y=f_, data=training_set,height=4,aspect=2)\n",
        "    plt.title(f_)"
      ]
    },
    {
      "cell_type": "code",
      "execution_count": 5,
      "metadata": {
        "id": "YLmCmgRw9BAW"
      },
      "outputs": [],
      "source": [
        "features=['acousticness','danceability','energy','loudness','speechiness']\n",
        "features3=['acousticness','energy','loudness','speechiness']\n"
      ]
    },
    {
      "cell_type": "code",
      "execution_count": null,
      "metadata": {
        "colab": {
          "base_uri": "https://localhost:8080/"
        },
        "id": "MhJ_lgY8kTLt",
        "outputId": "36684af0-a239-4951-eaa7-1e025a10252c"
      },
      "outputs": [],
      "source": [
        "from sklearn import svm\n",
        "\n",
        "X=training_set[features]\n",
        "y=training_set['label']\n",
        "\n",
        "scaler = StandardScaler()\n",
        "X = scaler.fit_transform(X) # Scale the features\n",
        "\n",
        "Cs=[0.5, 1, 2, 5, 10, 15] # L2 Penalty\n",
        "ker=['linear', 'poly', 'rbf', 'sigmoid']\n",
        "\n",
        "# cross validation\n",
        "for k in ker:\n",
        "  pipeline=Pipeline([('model', svm.SVC(kernel=k, C=2, tol=1e-3, random_state=1))])\n",
        "  scores = cross_val_score(pipeline, X, y, cv=5, scoring='accuracy')\n",
        "  print('kernel:',k)\n",
        "  print('accuracy=',scores.mean())"
      ]
    },
    {
      "cell_type": "code",
      "execution_count": null,
      "metadata": {
        "colab": {
          "base_uri": "https://localhost:8080/"
        },
        "id": "ltV7bptxDJWI",
        "outputId": "8e11302b-5d48-4090-a6a3-a84071912353"
      },
      "outputs": [],
      "source": [
        "# svm\n",
        "from sklearn import svm\n",
        "X=training_set[features]\n",
        "y=training_set['label']\n",
        "X_test=test_set[features]\n",
        "\n",
        "scaler = StandardScaler()\n",
        "X_train_scaled = scaler.fit_transform(X)  # Fit on training data and transform\n",
        "X_test_scaled = scaler.transform(X_test)\n",
        "\n",
        "clf=svm.SVC(kernel='rbf', C=10, tol=1e-3)\n",
        "clf.fit(X_train_scaled, y)\n",
        "y_pred=clf.predict(X_test_scaled)\n",
        "\n",
        "# output the prediction\n",
        "output = pd.DataFrame({'predict': y_pred})\n",
        "output.to_csv('submission.csv', index=False)\n",
        "print(y_pred)\n",
        "result = ''.join(map(str, y_pred))\n",
        "print(result)"
      ]
    },
    {
      "cell_type": "code",
      "execution_count": null,
      "metadata": {
        "colab": {
          "base_uri": "https://localhost:8080/"
        },
        "id": "SWmI2YTr5GM-",
        "outputId": "3b26660c-7c4f-40e3-f62e-36a93f323ab7"
      },
      "outputs": [],
      "source": [
        "from sklearn.ensemble import RandomForestClassifier\n",
        "\n",
        "X=training_set[features]\n",
        "y=training_set['label']\n",
        "n_est=[50, 100, 125, 150] # n_estimators(number of trees)\n",
        "criteria=['gini','entropy','log_loss'] # loss function criterion\n",
        "max_d=[2, 5, 10, 50, None] # max depth of the trees\n",
        "\n",
        "for c in criteria:\n",
        "  pipeline=Pipeline([('model', RandomForestClassifier(n_estimators=50, criterion=c, max_depth=5, random_state=1))])\n",
        "  scores = cross_val_score(pipeline, X, y, cv=5, scoring='accuracy')\n",
        "  print('criteria',c)\n",
        "  print('accuracy=',scores.mean())"
      ]
    },
    {
      "cell_type": "code",
      "execution_count": null,
      "metadata": {
        "colab": {
          "base_uri": "https://localhost:8080/"
        },
        "id": "W9Mw07BlDO8I",
        "outputId": "c0c9cf1b-df0f-437a-8607-b9c20e6c6f21"
      },
      "outputs": [],
      "source": [
        "# random forest\n",
        "\n",
        "from sklearn.ensemble import RandomForestClassifier\n",
        "X=training_set[features]\n",
        "y=training_set['label']\n",
        "X_test=test_set[features]\n",
        "\n",
        "clf=RandomForestClassifier(n_estimators=50, criterion='entropy', max_depth=2)\n",
        "clf.fit(X, y)\n",
        "y_pred=clf.predict(X_test)\n",
        "\n",
        "# Save predictions in format used for competition scoring\n",
        "output = pd.DataFrame({'predict': y_pred})\n",
        "output.to_csv('submission.csv', index=False)\n",
        "print(y_pred)\n",
        "result = ''.join(map(str, y_pred))\n",
        "print(result)"
      ]
    }
  ],
  "metadata": {
    "colab": {
      "provenance": []
    },
    "kernelspec": {
      "display_name": "Python 3",
      "name": "python3"
    },
    "language_info": {
      "name": "python"
    }
  },
  "nbformat": 4,
  "nbformat_minor": 0
}
